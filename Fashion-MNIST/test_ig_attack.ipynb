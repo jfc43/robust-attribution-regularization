{
 "cells": [
  {
   "cell_type": "code",
   "execution_count": 1,
   "metadata": {},
   "outputs": [
    {
     "name": "stderr",
     "output_type": "stream",
     "text": [
      "/nobackup/ENV/lib/python3.5/site-packages/tensorflow/python/framework/dtypes.py:523: FutureWarning: Passing (type, 1) or '1type' as a synonym of type is deprecated; in a future version of numpy, it will be understood as (type, (1,)) / '(1,)type'.\n",
      "  _np_qint8 = np.dtype([(\"qint8\", np.int8, 1)])\n",
      "/nobackup/ENV/lib/python3.5/site-packages/tensorflow/python/framework/dtypes.py:524: FutureWarning: Passing (type, 1) or '1type' as a synonym of type is deprecated; in a future version of numpy, it will be understood as (type, (1,)) / '(1,)type'.\n",
      "  _np_quint8 = np.dtype([(\"quint8\", np.uint8, 1)])\n",
      "/nobackup/ENV/lib/python3.5/site-packages/tensorflow/python/framework/dtypes.py:525: FutureWarning: Passing (type, 1) or '1type' as a synonym of type is deprecated; in a future version of numpy, it will be understood as (type, (1,)) / '(1,)type'.\n",
      "  _np_qint16 = np.dtype([(\"qint16\", np.int16, 1)])\n",
      "/nobackup/ENV/lib/python3.5/site-packages/tensorflow/python/framework/dtypes.py:526: FutureWarning: Passing (type, 1) or '1type' as a synonym of type is deprecated; in a future version of numpy, it will be understood as (type, (1,)) / '(1,)type'.\n",
      "  _np_quint16 = np.dtype([(\"quint16\", np.uint16, 1)])\n",
      "/nobackup/ENV/lib/python3.5/site-packages/tensorflow/python/framework/dtypes.py:527: FutureWarning: Passing (type, 1) or '1type' as a synonym of type is deprecated; in a future version of numpy, it will be understood as (type, (1,)) / '(1,)type'.\n",
      "  _np_qint32 = np.dtype([(\"qint32\", np.int32, 1)])\n",
      "/nobackup/ENV/lib/python3.5/site-packages/tensorflow/python/framework/dtypes.py:532: FutureWarning: Passing (type, 1) or '1type' as a synonym of type is deprecated; in a future version of numpy, it will be understood as (type, (1,)) / '(1,)type'.\n",
      "  np_resource = np.dtype([(\"resource\", np.ubyte, 1)])\n"
     ]
    }
   ],
   "source": [
    "import matplotlib as mpl\n",
    "from utils import plot\n",
    "import matplotlib.pyplot as plt\n",
    "import numpy as np\n",
    "import _pickle as pkl\n",
    "import scipy.stats as stats\n",
    "import tensorflow as tf\n",
    "import time\n",
    "from ig_attack import IntegratedGradientsAttack\n",
    "from utils import dataReader, get_session, integrated_gradients, softmax\n",
    "from model import Model\n",
    "\n",
    "tf.logging.set_verbosity(tf.logging.ERROR)"
   ]
  },
  {
   "cell_type": "code",
   "execution_count": 2,
   "metadata": {},
   "outputs": [
    {
     "name": "stdout",
     "output_type": "stream",
     "text": [
      "Extracting data/fashion/train-images-idx3-ubyte.gz\n",
      "Extracting data/fashion/train-labels-idx1-ubyte.gz\n",
      "Extracting data/fashion/t10k-images-idx3-ubyte.gz\n",
      "Extracting data/fashion/t10k-labels-idx1-ubyte.gz\n"
     ]
    }
   ],
   "source": [
    "X, y = dataReader()"
   ]
  },
  {
   "cell_type": "code",
   "execution_count": 3,
   "metadata": {
    "scrolled": true
   },
   "outputs": [
    {
     "name": "stdout",
     "output_type": "stream",
     "text": [
      "Image ID: 8, Image Label : 5\n"
     ]
    },
    {
     "data": {
      "text/plain": [
       "<matplotlib.image.AxesImage at 0x7f663dace320>"
      ]
     },
     "execution_count": 3,
     "metadata": {},
     "output_type": "execute_result"
    },
    {
     "data": {
      "image/png": "[encoded data removed]",
      "text/plain": [
       "<matplotlib.figure.Figure at 0x7f663db79940>"
      ]
     },
     "metadata": {
      "needs_background": "light"
     },
     "output_type": "display_data"
    }
   ],
   "source": [
    "n = 8\n",
    "original_label = y[n]\n",
    "test_image = X[n]\n",
    "plt.rcParams[\"figure.figsize\"]=8,8\n",
    "print(\"Image ID: {}, Image Label : {}\".format(n, y[n]))\n",
    "%matplotlib inline\n",
    "plt.imshow(X[n,:,:,0], cmap='gray')"
   ]
  },
  {
   "cell_type": "code",
   "execution_count": 4,
   "metadata": {},
   "outputs": [],
   "source": [
    "tf.reset_default_graph()\n",
    "sess = get_session()\n",
    "model = Model(create_saliency_op = 'ig')\n",
    "\n",
    "model_dir = 'models/nat_trained'\n",
    "\n",
    "saver = tf.train.Saver()\n",
    "checkpoint = tf.train.latest_checkpoint(model_dir)\n",
    "saver.restore(sess, checkpoint)"
   ]
  },
  {
   "cell_type": "code",
   "execution_count": 5,
   "metadata": {},
   "outputs": [],
   "source": [
    "k_top = 100 #Recommended for ImageNet\n",
    "eval_k_top = 100\n",
    "num_steps = 100 #Number of steps in Integrated Gradients Algorithm (refer to the original paper)\n",
    "attack_method = 'topK'\n",
    "epsilon = 0.1 #Maximum allowed perturbation for each pixel\n",
    "attack_steps = 300\n",
    "attack_times = 1\n",
    "alpha = 0.01\n",
    "attack_measure = \"kendall\"\n",
    "reference_image = np.zeros((28,28,1)) #Our chosen reference(the mean image)\n",
    "\n",
    "module = IntegratedGradientsAttack(sess = sess, test_image = test_image, \n",
    "                                   original_label = original_label, NET = model,\n",
    "                                   attack_method = attack_method, epsilon = epsilon,\n",
    "                                   k_top = k_top, eval_k_top = eval_k_top, num_steps = num_steps,\n",
    "                                   attack_iters = attack_steps,\n",
    "                                   attack_times = attack_times,\n",
    "                                   alpha = alpha,  \n",
    "                                   attack_measure = attack_measure,\n",
    "                                   reference_image = reference_image, \n",
    "                                   same_label = True)"
   ]
  },
  {
   "cell_type": "code",
   "execution_count": 6,
   "metadata": {
    "scrolled": true
   },
   "outputs": [
    {
     "name": "stdout",
     "output_type": "stream",
     "text": [
      "For maximum allowed perturbation size equal to 0.1, the resulting perturbation size was equal to 0.10000002384185791\n",
      "47.0 % of the 100 most salient pixels in the original image are among 100 most salient pixels of the \n",
      "perturbed image\n",
      "The Spearman rank correlation between salieny maps is equal to 0.16641876513735843\n",
      "The kendall rank correlation between salieny maps is equal to 0.12926924691740954\n"
     ]
    }
   ],
   "source": [
    "output = module.iterative_attack_once()\n",
    "\n",
    "print('''For maximum allowed perturbation size equal to {}, the resulting perturbation size was equal to {}'''.format(epsilon, np.max(np.abs(test_image - module.perturbed_image))))\n",
    "\n",
    "print('''{} % of the {} most salient pixels in the original image are among {} most salient pixels of the \n",
    "perturbed image'''.format(output[0]*100,eval_k_top,eval_k_top))\n",
    "\n",
    "print(\"The Spearman rank correlation between salieny maps is equal to {}\".format(output[1]))\n",
    "\n",
    "print(\"The kendall rank correlation between salieny maps is equal to {}\".format(output[2]))"
   ]
  },
  {
   "cell_type": "code",
   "execution_count": 7,
   "metadata": {},
   "outputs": [
    {
     "name": "stdout",
     "output_type": "stream",
     "text": [
      "original prediction: 5, confidence: 1.0\n",
      "perturbed prediction: 5, confidence: 0.7332871556282043\n"
     ]
    }
   ],
   "source": [
    "nat_output = sess.run(model.output_with_relu, feed_dict={model.input: [test_image]})\n",
    "nat_pred = softmax(nat_output)\n",
    "adv_output = sess.run(model.output_with_relu, feed_dict={model.input: [module.perturbed_image]})\n",
    "adv_pred = softmax(adv_output)\n",
    "print('original prediction: {}, confidence: {}'.format(np.argmax(nat_pred), np.max(nat_pred)))\n",
    "print('perturbed prediction: {}, confidence: {}'.format(np.argmax(adv_pred), np.max(adv_pred)))"
   ]
  },
  {
   "cell_type": "code",
   "execution_count": 8,
   "metadata": {},
   "outputs": [
    {
     "data": {
      "text/plain": [
       "<matplotlib.image.AxesImage at 0x7f663275f240>"
      ]
     },
     "execution_count": 8,
     "metadata": {},
     "output_type": "execute_result"
    },
    {
     "data": {
      "image/png": "[encoded data removed]",
      "text/plain": [
       "<matplotlib.figure.Figure at 0x7f66327e1390>"
      ]
     },
     "metadata": {
      "needs_background": "light"
     },
     "output_type": "display_data"
    }
   ],
   "source": [
    "original_IG = integrated_gradients(sess, reference_image, test_image, original_label, model, gradient_func='output_input_gradient', steps=num_steps)\n",
    "\n",
    "mpl.rcParams[\"figure.figsize\"]=8,8\n",
    "plt.rc(\"text\",usetex=False)\n",
    "plt.rc(\"font\",family=\"sans-serif\",size=12)\n",
    "saliency = np.sum(np.abs(original_IG),-1)\n",
    "original_saliency = 28*28*saliency/np.sum(saliency)\n",
    "plt.subplot(2,2,1)\n",
    "plt.title(\"Original Image\")\n",
    "image = X[n,:,:,0]\n",
    "plt.imshow(image, cmap='gray')\n",
    "plt.subplot(2,2,2)\n",
    "plt.title(\"Original Image Saliency Map\")\n",
    "plt.imshow(original_saliency, cmap=\"hot\")\n",
    "perturbed_IG = integrated_gradients(sess, reference_image, module.perturbed_image, original_label, model, gradient_func='output_input_gradient', steps=num_steps)\n",
    "saliency = np.sum(np.abs(perturbed_IG),-1)\n",
    "perturbed_saliency = 28*28*saliency/np.sum(saliency)\n",
    "plt.subplot(2,2,3)\n",
    "plt.title(\"Perturbed Image\")\n",
    "perturbed_image = (module.perturbed_image[:,:,0])\n",
    "plt.imshow(perturbed_image, cmap='gray')\n",
    "plt.subplot(2,2,4)\n",
    "plt.title(\"Perturbed Image Saliency Map\")\n",
    "plt.imshow(perturbed_saliency, cmap=\"hot\")"
   ]
  }
 ],
 "metadata": {
  "kernelspec": {
   "display_name": "Python 3",
   "language": "python",
   "name": "python3"
  },
  "language_info": {
   "codemirror_mode": {
    "name": "ipython",
    "version": 3
   },
   "file_extension": ".py",
   "mimetype": "text/x-python",
   "name": "python",
   "nbconvert_exporter": "python",
   "pygments_lexer": "ipython3",
   "version": "3.5.2"
  }
 },
 "nbformat": 4,
 "nbformat_minor": 2
}
